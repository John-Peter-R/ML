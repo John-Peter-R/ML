{
  "nbformat": 4,
  "nbformat_minor": 0,
  "metadata": {
    "colab": {
      "provenance": [],
      "include_colab_link": true
    },
    "kernelspec": {
      "name": "python3",
      "display_name": "Python 3"
    },
    "language_info": {
      "name": "python"
    }
  },
  "cells": [
    {
      "cell_type": "markdown",
      "metadata": {
        "id": "view-in-github",
        "colab_type": "text"
      },
      "source": [
        "<a href=\"https://colab.research.google.com/github/John-Peter-R/ML/blob/main/Project_Sales_Forecasting.ipynb\" target=\"_parent\"><img src=\"https://colab.research.google.com/assets/colab-badge.svg\" alt=\"Open In Colab\"/></a>"
      ]
    },
    {
      "cell_type": "code",
      "metadata": {
        "id": "uXb9_nH8dfDl",
        "colab": {
          "base_uri": "https://localhost:8080/"
        },
        "outputId": "2c7df9f2-f181-47e0-93e5-5649bcd8b85a"
      },
      "source": [
        "import numpy as np\n",
        "import matplotlib.pyplot as plt\n",
        "import pandas as pd\n",
        "from sklearn.linear_model import LinearRegression\n",
        "from sklearn.metrics import r2_score, mean_squared_error\n",
        "import statsmodels.formula.api as smf"
      ],
      "execution_count": null,
      "outputs": [
        {
          "output_type": "stream",
          "name": "stderr",
          "text": [
            "/usr/local/lib/python3.7/dist-packages/statsmodels/tools/_testing.py:19: FutureWarning: pandas.util.testing is deprecated. Use the functions in the public API at pandas.testing instead.\n",
            "  import pandas.util.testing as tm\n"
          ]
        }
      ]
    },
    {
      "cell_type": "code",
      "metadata": {
        "colab": {
          "base_uri": "https://localhost:8080/"
        },
        "id": "EsoU2gSEeLIY",
        "outputId": "a1b2b9e2-7ef0-416d-cd22-7beb85408be1"
      },
      "source": [
        "from google.colab import drive\n",
        "drive.mount('/content/drive')"
      ],
      "execution_count": null,
      "outputs": [
        {
          "output_type": "stream",
          "name": "stdout",
          "text": [
            "Mounted at /content/drive\n"
          ]
        }
      ]
    },
    {
      "cell_type": "code",
      "metadata": {
        "id": "rAqDMQ-7eSsn"
      },
      "source": [
        "dataset = pd.read_csv('/content/advertising.csv')\n",
        "X = dataset.iloc[:, :-1].values\n",
        "y = dataset.iloc[:, -1].values"
      ],
      "execution_count": null,
      "outputs": []
    },
    {
      "cell_type": "code",
      "metadata": {
        "id": "XAePeMMcTjuW"
      },
      "source": [
        "dftv=dataset.TV\n",
        "dfr=dataset.Radio\n",
        "dfn=dataset.Newspaper\n",
        "dfs=dataset.Sales"
      ],
      "execution_count": null,
      "outputs": []
    },
    {
      "cell_type": "code",
      "metadata": {
        "colab": {
          "base_uri": "https://localhost:8080/",
          "height": 424
        },
        "id": "JV_-b84wT6AW",
        "outputId": "5ac7c874-dd05-47b5-aa47-4fc2ed5a3367"
      },
      "source": [
        "fig=plt.figure(figsize=(5,5)) \n",
        "ax=fig.add_axes([0,0,1,1])\n",
        "bp=ax.boxplot(dftv)\n",
        "plt.title('Box plot of TV')\n",
        "plt.show()"
      ],
      "execution_count": null,
      "outputs": [
        {
          "output_type": "display_data",
          "data": {
            "image/png": "[encoded data removed]",
            "text/plain": [
              "<Figure size 360x360 with 1 Axes>"
            ]
          },
          "metadata": {
            "needs_background": "light"
          }
        }
      ]
    },
    {
      "cell_type": "code",
      "metadata": {
        "colab": {
          "base_uri": "https://localhost:8080/",
          "height": 424
        },
        "id": "oHymi__LUOx4",
        "outputId": "82b788cb-1068-4f21-fd89-ba528d73a097"
      },
      "source": [
        "fig=plt.figure(figsize=(5,5)) \n",
        "ax=fig.add_axes([0,0,1,1])\n",
        "bp=ax.boxplot(dfr)\n",
        "plt.title('Box plot of FM')\n",
        "plt.show()"
      ],
      "execution_count": null,
      "outputs": [
        {
          "output_type": "display_data",
          "data": {
            "image/png": "[encoded data removed]",
            "text/plain": [
              "<Figure size 360x360 with 1 Axes>"
            ]
          },
          "metadata": {
            "needs_background": "light"
          }
        }
      ]
    },
    {
      "cell_type": "code",
      "metadata": {
        "colab": {
          "base_uri": "https://localhost:8080/",
          "height": 424
        },
        "id": "MHzo_6r9Uysf",
        "outputId": "f5cc4a50-a48e-471b-83ba-e0f0bc145f0e"
      },
      "source": [
        "fig=plt.figure(figsize=(5,5)) \n",
        "ax=fig.add_axes([0,0,1,1])\n",
        "bp=ax.boxplot(dfn)\n",
        "plt.title('Box plot of Newspaper')\n",
        "plt.show()"
      ],
      "execution_count": null,
      "outputs": [
        {
          "output_type": "display_data",
          "data": {
            "image/png": "[encoded data removed]",
            "text/plain": [
              "<Figure size 360x360 with 1 Axes>"
            ]
          },
          "metadata": {
            "needs_background": "light"
          }
        }
      ]
    },
    {
      "cell_type": "code",
      "metadata": {
        "colab": {
          "base_uri": "https://localhost:8080/",
          "height": 424
        },
        "id": "q2UERURLUzyf",
        "outputId": "3ce36257-3de1-405a-f9bd-11c8c251b1c8"
      },
      "source": [
        "fig=plt.figure(figsize=(5,5)) \n",
        "ax=fig.add_axes([0,0,1,1])\n",
        "bp=ax.boxplot(dfs)\n",
        "plt.title('Box plot of Sales')\n",
        "plt.show()"
      ],
      "execution_count": null,
      "outputs": [
        {
          "output_type": "display_data",
          "data": {
            "image/png": "[encoded data removed]",
            "text/plain": [
              "<Figure size 360x360 with 1 Axes>"
            ]
          },
          "metadata": {
            "needs_background": "light"
          }
        }
      ]
    },
    {
      "cell_type": "code",
      "metadata": {
        "colab": {
          "base_uri": "https://localhost:8080/",
          "height": 419
        },
        "id": "zbrF62_FF1An",
        "outputId": "fc9a3f59-1458-439b-8674-528a569fb2a3"
      },
      "source": [
        "df3=dataset.copy(deep=True)\n",
        "df3.drop('Newspaper',axis=1,inplace=True)\n",
        "df3"
      ],
      "execution_count": null,
      "outputs": [
        {
          "output_type": "execute_result",
          "data": {
            "text/html": [
              "<div>\n",
              "<style scoped>\n",
              "    .dataframe tbody tr th:only-of-type {\n",
              "        vertical-align: middle;\n",
              "    }\n",
              "\n",
              "    .dataframe tbody tr th {\n",
              "        vertical-align: top;\n",
              "    }\n",
              "\n",
              "    .dataframe thead th {\n",
              "        text-align: right;\n",
              "    }\n",
              "</style>\n",
              "<table border=\"1\" class=\"dataframe\">\n",
              "  <thead>\n",
              "    <tr style=\"text-align: right;\">\n",
              "      <th></th>\n",
              "      <th>TV</th>\n",
              "      <th>Radio</th>\n",
              "      <th>Sales</th>\n",
              "    </tr>\n",
              "  </thead>\n",
              "  <tbody>\n",
              "    <tr>\n",
              "      <th>0</th>\n",
              "      <td>230.1</td>\n",
              "      <td>37.8</td>\n",
              "      <td>22.1</td>\n",
              "    </tr>\n",
              "    <tr>\n",
              "      <th>1</th>\n",
              "      <td>44.5</td>\n",
              "      <td>39.3</td>\n",
              "      <td>10.4</td>\n",
              "    </tr>\n",
              "    <tr>\n",
              "      <th>2</th>\n",
              "      <td>17.2</td>\n",
              "      <td>45.9</td>\n",
              "      <td>12.0</td>\n",
              "    </tr>\n",
              "    <tr>\n",
              "      <th>3</th>\n",
              "      <td>151.5</td>\n",
              "      <td>41.3</td>\n",
              "      <td>16.5</td>\n",
              "    </tr>\n",
              "    <tr>\n",
              "      <th>4</th>\n",
              "      <td>180.8</td>\n",
              "      <td>10.8</td>\n",
              "      <td>17.9</td>\n",
              "    </tr>\n",
              "    <tr>\n",
              "      <th>...</th>\n",
              "      <td>...</td>\n",
              "      <td>...</td>\n",
              "      <td>...</td>\n",
              "    </tr>\n",
              "    <tr>\n",
              "      <th>195</th>\n",
              "      <td>38.2</td>\n",
              "      <td>3.7</td>\n",
              "      <td>7.6</td>\n",
              "    </tr>\n",
              "    <tr>\n",
              "      <th>196</th>\n",
              "      <td>94.2</td>\n",
              "      <td>4.9</td>\n",
              "      <td>14.0</td>\n",
              "    </tr>\n",
              "    <tr>\n",
              "      <th>197</th>\n",
              "      <td>177.0</td>\n",
              "      <td>9.3</td>\n",
              "      <td>14.8</td>\n",
              "    </tr>\n",
              "    <tr>\n",
              "      <th>198</th>\n",
              "      <td>283.6</td>\n",
              "      <td>42.0</td>\n",
              "      <td>25.5</td>\n",
              "    </tr>\n",
              "    <tr>\n",
              "      <th>199</th>\n",
              "      <td>232.1</td>\n",
              "      <td>8.6</td>\n",
              "      <td>18.4</td>\n",
              "    </tr>\n",
              "  </tbody>\n",
              "</table>\n",
              "<p>200 rows × 3 columns</p>\n",
              "</div>"
            ],
            "text/plain": [
              "        TV  Radio  Sales\n",
              "0    230.1   37.8   22.1\n",
              "1     44.5   39.3   10.4\n",
              "2     17.2   45.9   12.0\n",
              "3    151.5   41.3   16.5\n",
              "4    180.8   10.8   17.9\n",
              "..     ...    ...    ...\n",
              "195   38.2    3.7    7.6\n",
              "196   94.2    4.9   14.0\n",
              "197  177.0    9.3   14.8\n",
              "198  283.6   42.0   25.5\n",
              "199  232.1    8.6   18.4\n",
              "\n",
              "[200 rows x 3 columns]"
            ]
          },
          "metadata": {},
          "execution_count": 7
        }
      ]
    },
    {
      "cell_type": "code",
      "metadata": {
        "id": "bBb8jzTuF6iz"
      },
      "source": [
        "X1 = df3.iloc[:, :-1].values\n",
        "y1 = df3.iloc[:, -1].values"
      ],
      "execution_count": null,
      "outputs": []
    },
    {
      "cell_type": "code",
      "metadata": {
        "colab": {
          "base_uri": "https://localhost:8080/",
          "height": 419
        },
        "id": "7C90dFoWGBku",
        "outputId": "da13b553-c565-4069-a96c-1211046a1053"
      },
      "source": [
        "df4=df3.copy(deep=True)\n",
        "df4.drop('Radio',axis=1,inplace=True)\n",
        "df4"
      ],
      "execution_count": null,
      "outputs": [
        {
          "output_type": "execute_result",
          "data": {
            "text/html": [
              "<div>\n",
              "<style scoped>\n",
              "    .dataframe tbody tr th:only-of-type {\n",
              "        vertical-align: middle;\n",
              "    }\n",
              "\n",
              "    .dataframe tbody tr th {\n",
              "        vertical-align: top;\n",
              "    }\n",
              "\n",
              "    .dataframe thead th {\n",
              "        text-align: right;\n",
              "    }\n",
              "</style>\n",
              "<table border=\"1\" class=\"dataframe\">\n",
              "  <thead>\n",
              "    <tr style=\"text-align: right;\">\n",
              "      <th></th>\n",
              "      <th>TV</th>\n",
              "      <th>Sales</th>\n",
              "    </tr>\n",
              "  </thead>\n",
              "  <tbody>\n",
              "    <tr>\n",
              "      <th>0</th>\n",
              "      <td>230.1</td>\n",
              "      <td>22.1</td>\n",
              "    </tr>\n",
              "    <tr>\n",
              "      <th>1</th>\n",
              "      <td>44.5</td>\n",
              "      <td>10.4</td>\n",
              "    </tr>\n",
              "    <tr>\n",
              "      <th>2</th>\n",
              "      <td>17.2</td>\n",
              "      <td>12.0</td>\n",
              "    </tr>\n",
              "    <tr>\n",
              "      <th>3</th>\n",
              "      <td>151.5</td>\n",
              "      <td>16.5</td>\n",
              "    </tr>\n",
              "    <tr>\n",
              "      <th>4</th>\n",
              "      <td>180.8</td>\n",
              "      <td>17.9</td>\n",
              "    </tr>\n",
              "    <tr>\n",
              "      <th>...</th>\n",
              "      <td>...</td>\n",
              "      <td>...</td>\n",
              "    </tr>\n",
              "    <tr>\n",
              "      <th>195</th>\n",
              "      <td>38.2</td>\n",
              "      <td>7.6</td>\n",
              "    </tr>\n",
              "    <tr>\n",
              "      <th>196</th>\n",
              "      <td>94.2</td>\n",
              "      <td>14.0</td>\n",
              "    </tr>\n",
              "    <tr>\n",
              "      <th>197</th>\n",
              "      <td>177.0</td>\n",
              "      <td>14.8</td>\n",
              "    </tr>\n",
              "    <tr>\n",
              "      <th>198</th>\n",
              "      <td>283.6</td>\n",
              "      <td>25.5</td>\n",
              "    </tr>\n",
              "    <tr>\n",
              "      <th>199</th>\n",
              "      <td>232.1</td>\n",
              "      <td>18.4</td>\n",
              "    </tr>\n",
              "  </tbody>\n",
              "</table>\n",
              "<p>200 rows × 2 columns</p>\n",
              "</div>"
            ],
            "text/plain": [
              "        TV  Sales\n",
              "0    230.1   22.1\n",
              "1     44.5   10.4\n",
              "2     17.2   12.0\n",
              "3    151.5   16.5\n",
              "4    180.8   17.9\n",
              "..     ...    ...\n",
              "195   38.2    7.6\n",
              "196   94.2   14.0\n",
              "197  177.0   14.8\n",
              "198  283.6   25.5\n",
              "199  232.1   18.4\n",
              "\n",
              "[200 rows x 2 columns]"
            ]
          },
          "metadata": {},
          "execution_count": 9
        }
      ]
    },
    {
      "cell_type": "code",
      "metadata": {
        "id": "YPWUlJWtGImE"
      },
      "source": [
        "X3 = dataset.iloc[:, :-1].values\n",
        "y3 = dataset.iloc[:, -1].values"
      ],
      "execution_count": null,
      "outputs": []
    },
    {
      "cell_type": "code",
      "metadata": {
        "colab": {
          "base_uri": "https://localhost:8080/",
          "height": 296
        },
        "id": "RME0I-VCD_iD",
        "outputId": "ee93dfd0-3596-46ef-c96d-0d499e67f9c7"
      },
      "source": [
        "xax=X[:,0]\n",
        "yax=y\n",
        "plt.scatter(xax,yax)\n",
        "plt.xlabel(\"TV\")\n",
        "plt.ylabel(\"Sales\")\n",
        "plt.show"
      ],
      "execution_count": null,
      "outputs": [
        {
          "output_type": "execute_result",
          "data": {
            "text/plain": [
              "<function matplotlib.pyplot.show>"
            ]
          },
          "metadata": {},
          "execution_count": 4
        },
        {
          "output_type": "display_data",
          "data": {
            "image/png": "[encoded data removed]",
            "text/plain": [
              "<Figure size 432x288 with 1 Axes>"
            ]
          },
          "metadata": {
            "needs_background": "light"
          }
        }
      ]
    },
    {
      "cell_type": "code",
      "metadata": {
        "colab": {
          "base_uri": "https://localhost:8080/",
          "height": 296
        },
        "id": "IXkuAN5sEDFU",
        "outputId": "ffd3116b-a5d8-43df-a5d5-f4f63a100390"
      },
      "source": [
        "xax=X[:,1]\n",
        "yax=y\n",
        "plt.scatter(xax,yax)\n",
        "plt.xlabel(\"Radio\")\n",
        "plt.ylabel(\"Sales\")\n",
        "plt.show"
      ],
      "execution_count": null,
      "outputs": [
        {
          "output_type": "execute_result",
          "data": {
            "text/plain": [
              "<function matplotlib.pyplot.show>"
            ]
          },
          "metadata": {},
          "execution_count": 5
        },
        {
          "output_type": "display_data",
          "data": {
            "image/png": "[encoded data removed]",
            "text/plain": [
              "<Figure size 432x288 with 1 Axes>"
            ]
          },
          "metadata": {
            "needs_background": "light"
          }
        }
      ]
    },
    {
      "cell_type": "code",
      "metadata": {
        "colab": {
          "base_uri": "https://localhost:8080/",
          "height": 296
        },
        "id": "yLoeFoQhEGAz",
        "outputId": "ddcbd064-6472-4dc1-ceb4-96441e74bdfc"
      },
      "source": [
        "xax=X[:,2]\n",
        "yax=y\n",
        "plt.scatter(xax,yax)\n",
        "plt.xlabel(\"Newspaper\")\n",
        "plt.ylabel(\"Sales\")\n",
        "plt.show"
      ],
      "execution_count": null,
      "outputs": [
        {
          "output_type": "execute_result",
          "data": {
            "text/plain": [
              "<function matplotlib.pyplot.show>"
            ]
          },
          "metadata": {},
          "execution_count": 6
        },
        {
          "output_type": "display_data",
          "data": {
            "image/png": "[encoded data removed]",
            "text/plain": [
              "<Figure size 432x288 with 1 Axes>"
            ]
          },
          "metadata": {
            "needs_background": "light"
          }
        }
      ]
    },
    {
      "cell_type": "markdown",
      "metadata": {
        "id": "v1xh1DEhHPCr"
      },
      "source": [
        "#One independent variable"
      ]
    },
    {
      "cell_type": "code",
      "metadata": {
        "id": "8h1xs1RSEKwc"
      },
      "source": [
        "from sklearn.model_selection import train_test_split\n",
        "X3_train, X3_test, y3_train, y3_test = train_test_split(X3, y3, test_size = 1/3, random_state = 0)"
      ],
      "execution_count": null,
      "outputs": []
    },
    {
      "cell_type": "code",
      "metadata": {
        "colab": {
          "base_uri": "https://localhost:8080/"
        },
        "id": "iGqOpVPpGpgQ",
        "outputId": "444d2e8e-25a5-413b-dd15-3f2da9aac9f3"
      },
      "source": [
        "from sklearn.linear_model import LinearRegression\n",
        "regressor3 = LinearRegression()\n",
        "regressor3.fit(X3_train, y3_train)"
      ],
      "execution_count": null,
      "outputs": [
        {
          "output_type": "execute_result",
          "data": {
            "text/plain": [
              "LinearRegression(copy_X=True, fit_intercept=True, n_jobs=None, normalize=False)"
            ]
          },
          "metadata": {},
          "execution_count": 14
        }
      ]
    },
    {
      "cell_type": "code",
      "metadata": {
        "colab": {
          "base_uri": "https://localhost:8080/"
        },
        "id": "Q3xfQlgLGzr4",
        "outputId": "cee52a48-9a2d-498e-dc6e-3b8df9730725"
      },
      "source": [
        "y4_pred = regressor3.predict(X3_test)\n",
        "y4_pred\n",
        "r_sq2 = regressor3.score(X3, y3)\n",
        "r_sq2"
      ],
      "execution_count": null,
      "outputs": [
        {
          "output_type": "execute_result",
          "data": {
            "text/plain": [
              "0.9017760223584486"
            ]
          },
          "metadata": {},
          "execution_count": 16
        }
      ]
    },
    {
      "cell_type": "markdown",
      "metadata": {
        "id": "FW4N8D4-HVCJ"
      },
      "source": [
        "#Two independent variables"
      ]
    },
    {
      "cell_type": "code",
      "metadata": {
        "id": "pF_oxTx1HCi5"
      },
      "source": [
        "X1_train, X1_test, y1_train, y1_test = train_test_split(X1, y1, test_size = 0.2, random_state = 0)"
      ],
      "execution_count": null,
      "outputs": []
    },
    {
      "cell_type": "code",
      "metadata": {
        "colab": {
          "base_uri": "https://localhost:8080/"
        },
        "id": "S_ga8f-kHe9S",
        "outputId": "2b14164d-90e4-47e5-bffd-7dd18c19c8d7"
      },
      "source": [
        "regressor1 = LinearRegression()\n",
        "regressor1.fit(X1_train, y1_train)"
      ],
      "execution_count": null,
      "outputs": [
        {
          "output_type": "execute_result",
          "data": {
            "text/plain": [
              "LinearRegression(copy_X=True, fit_intercept=True, n_jobs=None, normalize=False)"
            ]
          },
          "metadata": {},
          "execution_count": 18
        }
      ]
    },
    {
      "cell_type": "code",
      "metadata": {
        "colab": {
          "base_uri": "https://localhost:8080/"
        },
        "id": "7E0Id3n8HpAo",
        "outputId": "5eb6f2a0-8ccd-44e6-f722-a0d84499afa5"
      },
      "source": [
        "y1_pred = regressor1.predict(X1_test)\n",
        "r_sq1=regressor1.score(X1,y1)\n",
        "r_sq1"
      ],
      "execution_count": null,
      "outputs": [
        {
          "output_type": "execute_result",
          "data": {
            "text/plain": [
              "0.9023271513637827"
            ]
          },
          "metadata": {},
          "execution_count": 19
        }
      ]
    },
    {
      "cell_type": "markdown",
      "metadata": {
        "id": "ToZFIUhPIPwJ"
      },
      "source": [
        "#Three independent variables"
      ]
    },
    {
      "cell_type": "code",
      "metadata": {
        "id": "b-doEIlzIUVP"
      },
      "source": [
        "X_train, X_test, y_train, y_test = train_test_split(X, y, test_size = 0.2, random_state = 0)"
      ],
      "execution_count": null,
      "outputs": []
    },
    {
      "cell_type": "code",
      "metadata": {
        "colab": {
          "base_uri": "https://localhost:8080/"
        },
        "id": "JaQvhhLsIdsL",
        "outputId": "7818b7b7-9522-40db-f296-e539c29f8708"
      },
      "source": [
        "regressor = LinearRegression()\n",
        "regressor.fit(X_train, y_train)"
      ],
      "execution_count": null,
      "outputs": [
        {
          "output_type": "execute_result",
          "data": {
            "text/plain": [
              "LinearRegression(copy_X=True, fit_intercept=True, n_jobs=None, normalize=False)"
            ]
          },
          "metadata": {},
          "execution_count": 21
        }
      ]
    },
    {
      "cell_type": "code",
      "metadata": {
        "colab": {
          "base_uri": "https://localhost:8080/"
        },
        "id": "amF9a0ETIk0c",
        "outputId": "e0b46d19-fa11-42fe-b72a-721749302d52"
      },
      "source": [
        "y_pred = regressor.predict(X_test)\n",
        "r_sq=regressor.score(X,y)\n",
        "r_sq"
      ],
      "execution_count": null,
      "outputs": [
        {
          "output_type": "execute_result",
          "data": {
            "text/plain": [
              "0.9021417667568035"
            ]
          },
          "metadata": {},
          "execution_count": 22
        }
      ]
    },
    {
      "cell_type": "code",
      "metadata": {
        "colab": {
          "base_uri": "https://localhost:8080/"
        },
        "id": "AcMcJh4PI0Gw",
        "outputId": "754ad4d3-1f0b-4ae8-d6c3-c45fe30d6490"
      },
      "source": [
        "results = smf.ols('Sales~TV+Radio+Newspaper ', data=dataset).fit()\n",
        "print(results.summary())"
      ],
      "execution_count": null,
      "outputs": [
        {
          "output_type": "stream",
          "name": "stdout",
          "text": [
            "                            OLS Regression Results                            \n",
            "==============================================================================\n",
            "Dep. Variable:                  Sales   R-squared:                       0.903\n",
            "Model:                            OLS   Adj. R-squared:                  0.901\n",
            "Method:                 Least Squares   F-statistic:                     605.4\n",
            "Date:                Tue, 02 Nov 2021   Prob (F-statistic):           8.13e-99\n",
            "Time:                        14:52:52   Log-Likelihood:                -383.34\n",
            "No. Observations:                 200   AIC:                             774.7\n",
            "Df Residuals:                     196   BIC:                             787.9\n",
            "Df Model:                           3                                         \n",
            "Covariance Type:            nonrobust                                         \n",
            "==============================================================================\n",
            "                 coef    std err          t      P>|t|      [0.025      0.975]\n",
            "------------------------------------------------------------------------------\n",
            "Intercept      4.6251      0.308     15.041      0.000       4.019       5.232\n",
            "TV             0.0544      0.001     39.592      0.000       0.052       0.057\n",
            "Radio          0.1070      0.008     12.604      0.000       0.090       0.124\n",
            "Newspaper      0.0003      0.006      0.058      0.954      -0.011       0.012\n",
            "==============================================================================\n",
            "Omnibus:                       16.081   Durbin-Watson:                   2.251\n",
            "Prob(Omnibus):                  0.000   Jarque-Bera (JB):               27.655\n",
            "Skew:                          -0.431   Prob(JB):                     9.88e-07\n",
            "Kurtosis:                       4.605   Cond. No.                         454.\n",
            "==============================================================================\n",
            "\n",
            "Warnings:\n",
            "[1] Standard Errors assume that the covariance matrix of the errors is correctly specified.\n"
          ]
        }
      ]
    },
    {
      "cell_type": "code",
      "metadata": {
        "colab": {
          "base_uri": "https://localhost:8080/"
        },
        "id": "GrbEqrbjI9aB",
        "outputId": "d176ef06-7227-4d7a-d61a-67f75f87e6ad"
      },
      "source": [
        "df2=dataset.copy(deep=True)\n",
        "df2['tv_radio']=df2['TV']*df2['Radio']\n",
        "results = smf.ols('Sales~TV+Radio+Newspaper+tv_radio ', data=df2).fit()\n",
        "print(results.summary())"
      ],
      "execution_count": null,
      "outputs": [
        {
          "output_type": "stream",
          "name": "stdout",
          "text": [
            "                            OLS Regression Results                            \n",
            "==============================================================================\n",
            "Dep. Variable:                  Sales   R-squared:                       0.914\n",
            "Model:                            OLS   Adj. R-squared:                  0.912\n",
            "Method:                 Least Squares   F-statistic:                     518.6\n",
            "Date:                Tue, 02 Nov 2021   Prob (F-statistic):          1.08e-102\n",
            "Time:                        14:55:46   Log-Likelihood:                -370.80\n",
            "No. Observations:                 200   AIC:                             751.6\n",
            "Df Residuals:                     195   BIC:                             768.1\n",
            "Df Model:                           4                                         \n",
            "Covariance Type:            nonrobust                                         \n",
            "==============================================================================\n",
            "                 coef    std err          t      P>|t|      [0.025      0.975]\n",
            "------------------------------------------------------------------------------\n",
            "Intercept      6.1723      0.419     14.722      0.000       5.345       6.999\n",
            "TV             0.0435      0.002     17.433      0.000       0.039       0.048\n",
            "Radio          0.0415      0.015      2.740      0.007       0.012       0.071\n",
            "Newspaper      0.0013      0.005      0.247      0.805      -0.009       0.012\n",
            "tv_radio       0.0004    8.7e-05      5.103      0.000       0.000       0.001\n",
            "==============================================================================\n",
            "Omnibus:                        7.535   Durbin-Watson:                   2.288\n",
            "Prob(Omnibus):                  0.023   Jarque-Bera (JB):               10.029\n",
            "Skew:                          -0.246   Prob(JB):                      0.00664\n",
            "Kurtosis:                       3.980   Cond. No.                     1.84e+04\n",
            "==============================================================================\n",
            "\n",
            "Warnings:\n",
            "[1] Standard Errors assume that the covariance matrix of the errors is correctly specified.\n",
            "[2] The condition number is large, 1.84e+04. This might indicate that there are\n",
            "strong multicollinearity or other numerical problems.\n"
          ]
        }
      ]
    },
    {
      "cell_type": "code",
      "metadata": {
        "colab": {
          "base_uri": "https://localhost:8080/"
        },
        "id": "Fm_WhfX1JYij",
        "outputId": "c67f5874-2db5-4a22-c1d5-02846fa9157e"
      },
      "source": [
        "df2=dataset.copy(deep=True)\n",
        "df2['tv_radio']=df2['TV']*df2['Radio']\n",
        "df2['tv_np']=df2['TV']*df2['Newspaper']\n",
        "df2['radio_np']=df2['Radio']*df2['Newspaper']\n",
        "results = smf.ols('Sales~TV+Radio+Newspaper+tv_radio+tv_np+radio_np ', data=df2).fit()\n",
        "print(results.summary())"
      ],
      "execution_count": null,
      "outputs": [
        {
          "output_type": "stream",
          "name": "stdout",
          "text": [
            "                            OLS Regression Results                            \n",
            "==============================================================================\n",
            "Dep. Variable:                  Sales   R-squared:                       0.915\n",
            "Model:                            OLS   Adj. R-squared:                  0.912\n",
            "Method:                 Least Squares   F-statistic:                     344.4\n",
            "Date:                Tue, 02 Nov 2021   Prob (F-statistic):          3.16e-100\n",
            "Time:                        14:56:57   Log-Likelihood:                -370.20\n",
            "No. Observations:                 200   AIC:                             754.4\n",
            "Df Residuals:                     193   BIC:                             777.5\n",
            "Df Model:                           6                                         \n",
            "Covariance Type:            nonrobust                                         \n",
            "==============================================================================\n",
            "                 coef    std err          t      P>|t|      [0.025      0.975]\n",
            "------------------------------------------------------------------------------\n",
            "Intercept      6.2650      0.531     11.805      0.000       5.218       7.312\n",
            "TV             0.0444      0.003     16.506      0.000       0.039       0.050\n",
            "Radio          0.0295      0.019      1.548      0.123      -0.008       0.067\n",
            "Newspaper     -0.0006      0.017     -0.035      0.972      -0.034       0.033\n",
            "tv_radio       0.0005   9.55e-05      4.876      0.000       0.000       0.001\n",
            "tv_np      -4.112e-05   5.98e-05     -0.688      0.493      -0.000    7.68e-05\n",
            "radio_np       0.0003      0.000      0.717      0.474      -0.000       0.001\n",
            "==============================================================================\n",
            "Omnibus:                        5.751   Durbin-Watson:                   2.320\n",
            "Prob(Omnibus):                  0.056   Jarque-Bera (JB):                6.668\n",
            "Skew:                          -0.227   Prob(JB):                       0.0357\n",
            "Kurtosis:                       3.771   Cond. No.                     3.80e+04\n",
            "==============================================================================\n",
            "\n",
            "Warnings:\n",
            "[1] Standard Errors assume that the covariance matrix of the errors is correctly specified.\n",
            "[2] The condition number is large, 3.8e+04. This might indicate that there are\n",
            "strong multicollinearity or other numerical problems.\n"
          ]
        }
      ]
    }
  ]
}